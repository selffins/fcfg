{
 "cells": [
  {
   "cell_type": "code",
   "execution_count": 1,
   "id": "c96a0d2a-9476-46f6-b52e-9e9760afea99",
   "metadata": {},
   "outputs": [],
   "source": [
    "import nltk"
   ]
  },
  {
   "cell_type": "code",
   "execution_count": 2,
   "id": "6b3bbf7f-d594-4f26-815b-d4c6d832764d",
   "metadata": {},
   "outputs": [
    {
     "name": "stdout",
     "output_type": "stream",
     "text": [
      "% start S\n",
      "\n",
      "# Grammar productions\n",
      "\n",
      "# S expansion\n",
      "\n",
      "S -> VP\n",
      "S -> NP[case=nom, num=?n] VP[num=?n]\n",
      "\n",
      "# VP expansion\n",
      "\n",
      "VP[tense=?t, num=?n] -> IV[tense=?t, num=?n]\n",
      "\n",
      "# NP expansion\n",
      "\n",
      "NP[gend=?g, case=?c, num=?n] -> N[gend=?g, case=?c, num=?n]\n",
      "\n",
      "# Lexical productions\n",
      "\n",
      "N[gend=fem,  case=nom, num=sg] -> 'devushka'\n",
      "N[gend=fem,  case=nom, num=pl] -> 'devushki'\n",
      "N[gend=fem,  case=acc, num=sg] -> 'devushku'\n",
      "\n",
      "N[gend=masc, case=nom, num=sg] -> 'malychik'\n",
      "N[gend=masc, case=nom, num=pl] -> 'malychiki'\n",
      "N[gend=masc, type=anim, case=acc, num=sg] -> 'malychika'\n",
      "\n",
      "IV[tense=pres, num=sg] -> 'xodit'\n",
      "IV[tense=pres, num=pl] -> 'xodjat'\n",
      "\n"
     ]
    }
   ],
   "source": [
    "PATH_TO_FCFG_FILE = \"bhw4.fcfg\"\n",
    "\n",
    "with open(PATH_TO_FCFG_FILE, \"r\") as f:\n",
    "    print(f.read())"
   ]
  },
  {
   "cell_type": "code",
   "execution_count": 3,
   "id": "8b41b32e-dd0d-47ca-a89e-fbe32ccce088",
   "metadata": {},
   "outputs": [],
   "source": [
    "parser = nltk.load_parser(PATH_TO_FCFG_FILE, trace=0)"
   ]
  },
  {
   "cell_type": "code",
   "execution_count": 4,
   "id": "8c884330-c525-47aa-b96b-9b9559f66d31",
   "metadata": {},
   "outputs": [
    {
     "name": "stdout",
     "output_type": "stream",
     "text": [
      "(S[] (VP[num='sg', tense='pres'] (IV[num='sg', tense='pres'] xodit)))\n"
     ]
    }
   ],
   "source": [
    "tokens = \"xodit\".split()\n",
    "for tree in parser.parse(tokens):\n",
    "    print(tree)"
   ]
  },
  {
   "cell_type": "code",
   "execution_count": 5,
   "id": "a5c99ae4-4d67-4113-ac54-fb9499afcaf9",
   "metadata": {},
   "outputs": [],
   "source": [
    "sentences = ['xodit', 'xodjat', 'devushka xodit', 'malychik xodit', 'devushki xodjat', 'malychiki xodjat']\n",
    "fail = ['devushki xodit', 'devushku xodit', 'devushka xodjat', 'devushka xodit malychika']"
   ]
  },
  {
   "cell_type": "code",
   "execution_count": 6,
   "id": "d7b1d3f7-eca5-48f7-9266-575bde958bd6",
   "metadata": {},
   "outputs": [],
   "source": [
    "def test(sentence):\n",
    "    tokens = sentence.split()\n",
    "    res = parser.parse(tokens)\n",
    "    print(s, len(list(res)))"
   ]
  },
  {
   "cell_type": "code",
   "execution_count": 7,
   "id": "d16eaf6b-955f-4c31-a391-4772de7db30d",
   "metadata": {},
   "outputs": [
    {
     "name": "stdout",
     "output_type": "stream",
     "text": [
      "xodit 1\n",
      "xodjat 1\n",
      "devushka xodit 1\n",
      "malychik xodit 1\n",
      "devushki xodjat 1\n",
      "malychiki xodjat 1\n",
      "----------\n",
      "devushki xodit 0\n",
      "devushku xodit 0\n",
      "devushka xodjat 0\n",
      "devushka xodit malychika 0\n"
     ]
    }
   ],
   "source": [
    "for s in sentences:\n",
    "    test(s)\n",
    "print('----------')\n",
    "for s in fail:\n",
    "    test(s)"
   ]
  },
  {
   "cell_type": "code",
   "execution_count": 8,
   "id": "b7605f03-02b8-448f-92bd-6b3adf51678b",
   "metadata": {},
   "outputs": [],
   "source": [
    "tokens = \"devushku xodit\".split()\n",
    "for tree in parser.parse(tokens):\n",
    "    print(tree)"
   ]
  },
  {
   "cell_type": "code",
   "execution_count": null,
   "id": "2015148e-a5ef-4048-9053-6023a5858a8a",
   "metadata": {},
   "outputs": [],
   "source": []
  }
 ],
 "metadata": {
  "kernelspec": {
   "display_name": "Python 3 (ipykernel)",
   "language": "python",
   "name": "python3"
  },
  "language_info": {
   "codemirror_mode": {
    "name": "ipython",
    "version": 3
   },
   "file_extension": ".py",
   "mimetype": "text/x-python",
   "name": "python",
   "nbconvert_exporter": "python",
   "pygments_lexer": "ipython3",
   "version": "3.10.12"
  }
 },
 "nbformat": 4,
 "nbformat_minor": 5
}

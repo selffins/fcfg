{
 "cells": [
  {
   "cell_type": "code",
   "execution_count": 1,
   "id": "c96a0d2a-9476-46f6-b52e-9e9760afea99",
   "metadata": {},
   "outputs": [],
   "source": [
    "import nltk"
   ]
  },
  {
   "cell_type": "code",
   "execution_count": 2,
   "id": "6b3bbf7f-d594-4f26-815b-d4c6d832764d",
   "metadata": {},
   "outputs": [
    {
     "name": "stdout",
     "output_type": "stream",
     "text": [
      "% start S\n",
      "\n",
      "# Grammar productions\n",
      "\n",
      "# S expansion\n",
      "\n",
      "S -> VP\n",
      "S -> NP[case=nom, gend=?g, num=?n] VP[gend=?g, num=?n]\n",
      "S -> NP[case=dat] TV[refl=true, num=?n] NP[case=nom, num=?n]\n",
      "\n",
      "# VP expansion\n",
      "\n",
      "VP[tense=?t, num=?n] -> IV[tense=?t, num=?n]\n",
      "VP[tense=?t, gend=?g, num=?n, refl=?r] -> TV[tense=?t, gend=?g, num=?n, refl=?r] NP[case=acc]\n",
      "VP[tense=?t, num=?n] -> DV[num=?n, tense=?t] NP[case=acc] NP[case=dat]\n",
      "# NP expansion\n",
      "\n",
      "NP[case=?c, gend=?g, num=?n] -> N[case=?c, gend=?g, num=?n]\n",
      "NP[case=?c, gend=?g, num=?n] -> N[case=?c, gend=?g, num=?n] NP[case=gen]\n",
      "\n",
      "# Lexical productions\n",
      "\n",
      "# Nouns\n",
      "\n",
      "N[gend=fem,  case=nom, num=sg] -> 'devushka'\n",
      "N[gend=fem,  case=nom, num=pl] -> 'devushki'\n",
      "N[gend=fem,  case=gen, num=sg] -> 'devushki'\n",
      "N[gend=fem,  case=acc, num=sg] -> 'devushku'\n",
      "N[gend=fem,  case=dat, num=pl] -> 'devushkam'\n",
      "N[gend=fem,  case=dat, num=sg] -> 'devushke'\n",
      "\n",
      "N[gend=masc, case=nom, num=sg] -> 'malychik'\n",
      "N[gend=masc, case=nom, num=pl] -> 'malychiki' | 'babushki'\n",
      "N[gend=masc, type=anim, case=acc, num=sg] -> 'malychika'\n",
      "N[gend=masc, case=gen, num=sg] -> 'malychika'\n",
      "N[gend=masc, case=dat, num=sg] -> 'malychiku'\n",
      "N[gend=masc, case=dat, num=pl] -> 'malychikam' | 'babushkam'\n",
      "\n",
      "N[gend=masc, type=inan, case=acc, num=sg] -> 'dom' | 'podarok'\n",
      "N[gend=masc, type=anim, case=acc, num=sg] -> 'doma'\n",
      "\n",
      "# Verbs\n",
      "\n",
      "IV[tense=pres, num=sg] -> 'xodit'\n",
      "IV[tense=pres, num=pl] -> 'xodjat'\n",
      "\n",
      "TV[tense=pres, num=sg] -> 'vidit'\n",
      "TV[tense=pres, num=pl] -> 'vidjat'\n",
      "TV[tense=past, gend=masc, num=sg] -> 'videl'\n",
      "TV[tense=past, gend=fem, num=sg] -> 'videla'\n",
      "TV[tense=past, num=pl] -> 'videli'\n",
      "\n",
      "TV[tense=pres,refl=true, num=sg] -> 'nravitsja'\n",
      "TV[tense=pres, refl=true, num=pl] -> 'nravjatsja'\n",
      "\n",
      "DV[tense=pres, num=sg] -> 'darit'\n",
      "DV[tense=pres, num=pl] -> 'darjat'\n",
      "\n"
     ]
    }
   ],
   "source": [
    "PATH_TO_FCFG_FILE = \"bhw4.fcfg\"\n",
    "\n",
    "with open(PATH_TO_FCFG_FILE, \"r\") as f:\n",
    "    print(f.read())"
   ]
  },
  {
   "cell_type": "code",
   "execution_count": 3,
   "id": "e3bfba85-b4b5-42f3-a6e2-93f5883d2212",
   "metadata": {},
   "outputs": [],
   "source": [
    "vocab = set()"
   ]
  },
  {
   "cell_type": "code",
   "execution_count": 4,
   "id": "2f99afad-5a8a-4acb-bfb2-866219c51440",
   "metadata": {},
   "outputs": [],
   "source": [
    "def get_vocab(sentences):\n",
    "    vocab = set()\n",
    "    for s in sentences:\n",
    "        tokens = s.split()\n",
    "        for t in tokens:\n",
    "            vocab.add(t)\n",
    "    return list(sorted(list(vocab)))\n",
    "def update_vocab(vocab, new_words):\n",
    "    return vocab.union(set(new_words))\n",
    "def delta_vocab(old_vocab, new_vocab):\n",
    "    return new_vocab.difference(old_vocab)"
   ]
  },
  {
   "cell_type": "code",
   "execution_count": 5,
   "id": "8b41b32e-dd0d-47ca-a89e-fbe32ccce088",
   "metadata": {},
   "outputs": [],
   "source": [
    "parser = nltk.load_parser(PATH_TO_FCFG_FILE, trace=0)"
   ]
  },
  {
   "cell_type": "code",
   "execution_count": 6,
   "id": "8c884330-c525-47aa-b96b-9b9559f66d31",
   "metadata": {},
   "outputs": [
    {
     "name": "stdout",
     "output_type": "stream",
     "text": [
      "(S[] (VP[num='sg', tense='pres'] (IV[num='sg', tense='pres'] xodit)))\n"
     ]
    }
   ],
   "source": [
    "tokens = \"xodit\".split()\n",
    "for tree in parser.parse(tokens):\n",
    "    print(tree)"
   ]
  },
  {
   "cell_type": "code",
   "execution_count": 7,
   "id": "a5c99ae4-4d67-4113-ac54-fb9499afcaf9",
   "metadata": {},
   "outputs": [],
   "source": [
    "ok = ['xodit', 'xodjat', 'devushka xodit', 'malychik xodit', 'devushki xodjat', 'malychiki xodjat']\n",
    "fail = ['devushki xodit', 'devushku xodit', 'devushka xodjat', 'devushka xodit malychika']"
   ]
  },
  {
   "cell_type": "code",
   "execution_count": 8,
   "id": "d7b1d3f7-eca5-48f7-9266-575bde958bd6",
   "metadata": {},
   "outputs": [],
   "source": [
    "def test(sentence):\n",
    "    tokens = sentence.split()\n",
    "    res = parser.parse(tokens)\n",
    "    print(s, len(list(res)))"
   ]
  },
  {
   "cell_type": "code",
   "execution_count": 9,
   "id": "d16eaf6b-955f-4c31-a391-4772de7db30d",
   "metadata": {},
   "outputs": [
    {
     "name": "stdout",
     "output_type": "stream",
     "text": [
      "xodit 1\n",
      "xodjat 1\n",
      "devushka xodit 1\n",
      "malychik xodit 1\n",
      "devushki xodjat 1\n",
      "malychiki xodjat 1\n",
      "----------\n",
      "devushki xodit 0\n",
      "devushku xodit 0\n",
      "devushka xodjat 0\n",
      "devushka xodit malychika 0\n"
     ]
    }
   ],
   "source": [
    "for s in ok:\n",
    "    test(s)\n",
    "print('----------')\n",
    "for s in fail:\n",
    "    test(s)"
   ]
  },
  {
   "cell_type": "code",
   "execution_count": 10,
   "id": "66883f55-5469-467b-a2d6-b70e21424919",
   "metadata": {},
   "outputs": [
    {
     "data": {
      "text/plain": [
       "{'devushka',\n",
       " 'devushki',\n",
       " 'devushku',\n",
       " 'malychik',\n",
       " 'malychika',\n",
       " 'malychiki',\n",
       " 'xodit',\n",
       " 'xodjat'}"
      ]
     },
     "execution_count": 10,
     "metadata": {},
     "output_type": "execute_result"
    }
   ],
   "source": [
    "old_vocab = vocab\n",
    "vocab = update_vocab(old_vocab, get_vocab(ok+fail))\n",
    "delta_vocab(old_vocab, vocab)"
   ]
  },
  {
   "cell_type": "code",
   "execution_count": 11,
   "id": "b7605f03-02b8-448f-92bd-6b3adf51678b",
   "metadata": {},
   "outputs": [],
   "source": [
    "tokens = \"devushku xodit\".split()\n",
    "for tree in parser.parse(tokens):\n",
    "    print(tree)"
   ]
  },
  {
   "cell_type": "code",
   "execution_count": 12,
   "id": "2015148e-a5ef-4048-9053-6023a5858a8a",
   "metadata": {},
   "outputs": [
    {
     "name": "stdout",
     "output_type": "stream",
     "text": [
      "10\n",
      "13\n"
     ]
    }
   ],
   "source": [
    "transitive = ['devushka vidit malychika', 'malychik vidit devushku', 'devushka vidit dom', 'malychik vidit dom', 'vidit malychika', 'vidit devushku', 'vidit dom', 'vidjat malychika', 'vidjat devushku', 'vidjat dom']\n",
    "print(len(transitive))\n",
    "transitive_wrong = ['devushka vidit malychik']\n",
    "transitive_ignore = ['devushka vidit doma', 'devushku vidit malychika']\n",
    "print(len(transitive+transitive_wrong+transitive_ignore))"
   ]
  },
  {
   "cell_type": "code",
   "execution_count": 13,
   "id": "93462dbb-d783-4cca-81a6-ce5f88a4f047",
   "metadata": {},
   "outputs": [
    {
     "data": {
      "text/plain": [
       "{'dom', 'doma', 'vidit', 'vidjat'}"
      ]
     },
     "execution_count": 13,
     "metadata": {},
     "output_type": "execute_result"
    }
   ],
   "source": [
    "old_vocab = vocab\n",
    "vocab = update_vocab(old_vocab, get_vocab(transitive+transitive_wrong+transitive_ignore))\n",
    "delta_vocab(old_vocab, vocab)"
   ]
  },
  {
   "cell_type": "code",
   "execution_count": 14,
   "id": "e0f074ee-e10a-4346-81d1-805bfef932f4",
   "metadata": {},
   "outputs": [],
   "source": [
    "transitive_2 = ['devushka vidit dom malychika', 'malychik vidit dom devushki', 'devushke nravitsja malychik', 'malychiku nravitsja devushka', 'devushkam nravitsja malychik', 'malychikam nravitsja devushka', 'devushke nravjatsja malychiki', 'malychiku nravjatsja devushki', 'devushka darit podarok malychiku', 'malychik darit podarok devushke', 'babushki devushki darjat podarok malychiku', 'darjat podarok babushkam devushki']"
   ]
  },
  {
   "cell_type": "code",
   "execution_count": 15,
   "id": "94b03015-799b-47a2-bcd5-8205c1109451",
   "metadata": {},
   "outputs": [
    {
     "name": "stdout",
     "output_type": "stream",
     "text": [
      "12\n"
     ]
    }
   ],
   "source": [
    "print(len(transitive_2))"
   ]
  },
  {
   "cell_type": "code",
   "execution_count": 16,
   "id": "1bbd470c-a31a-46c6-bd9e-8a9f57ad9c52",
   "metadata": {},
   "outputs": [
    {
     "name": "stdout",
     "output_type": "stream",
     "text": [
      "babushkam\n",
      "babushki\n",
      "darit\n",
      "darjat\n",
      "devushka\n",
      "devushkam\n",
      "devushke\n",
      "devushki\n",
      "devushku\n",
      "dom\n",
      "malychik\n",
      "malychika\n",
      "malychikam\n",
      "malychiki\n",
      "malychiku\n",
      "nravitsja\n",
      "nravjatsja\n",
      "podarok\n",
      "vidit\n",
      "vidjat\n"
     ]
    }
   ],
   "source": [
    "print(\"\\n\".join(get_vocab(transitive+transitive_wrong+transitive_2)))"
   ]
  },
  {
   "cell_type": "code",
   "execution_count": 17,
   "id": "440a337a-f489-49f0-b90a-2bd04b09708b",
   "metadata": {},
   "outputs": [
    {
     "name": "stdout",
     "output_type": "stream",
     "text": [
      "devushka vidit malychika 1\n",
      "malychik vidit devushku 1\n",
      "devushka vidit dom 1\n",
      "malychik vidit dom 1\n",
      "vidit malychika 1\n",
      "vidit devushku 1\n",
      "vidit dom 1\n",
      "vidjat malychika 1\n",
      "vidjat devushku 1\n",
      "vidjat dom 1\n",
      "----------\n",
      "devushka vidit malychik 0\n",
      "----------\n",
      "devushka vidit dom malychika 1\n",
      "malychik vidit dom devushki 1\n",
      "----------\n",
      "devushke nravitsja malychik 1\n",
      "malychiku nravitsja devushka 1\n",
      "devushkam nravitsja malychik 1\n",
      "malychikam nravitsja devushka 1\n",
      "devushke nravjatsja malychiki 1\n",
      "malychiku nravjatsja devushki 1\n",
      "----------\n",
      "devushka darit podarok malychiku 1\n",
      "malychik darit podarok devushke 1\n",
      "babushki devushki darjat podarok malychiku 1\n",
      "darjat podarok babushkam devushki 1\n"
     ]
    }
   ],
   "source": [
    "for s in transitive:\n",
    "    test(s)\n",
    "print('----------')\n",
    "for s in transitive_wrong:\n",
    "    test(s)\n",
    "print('----------')\n",
    "transitive_genitive = transitive_2[0:2]\n",
    "for s in transitive_genitive:\n",
    "    test(s)\n",
    "transitive_dative = transitive_2[2:8]\n",
    "print('----------')\n",
    "for s in transitive_dative:\n",
    "    test(s)\n",
    "print('----------')\n",
    "transitive_ditransitive = transitive_2[8:]\n",
    "for s in transitive_ditransitive:\n",
    "    test(s)"
   ]
  },
  {
   "cell_type": "code",
   "execution_count": 18,
   "id": "b5e079b9-3aab-4abd-9fd3-c02f6e4d1764",
   "metadata": {},
   "outputs": [
    {
     "name": "stdout",
     "output_type": "stream",
     "text": [
      "15\n"
     ]
    },
    {
     "data": {
      "text/plain": [
       "{'videl', 'videla', 'videli'}"
      ]
     },
     "execution_count": 18,
     "metadata": {},
     "output_type": "execute_result"
    }
   ],
   "source": [
    "past = ['devushka videla malychika', 'devushka videla dom', 'videla malychika', 'videla dom', 'malychik videl devushku', 'malychik videl dom', 'videl devushku', 'videl dom', 'devushki videli malychika', 'malychiki videli devushku', 'videli malychika', 'videli devushku', 'videli dom']\n",
    "past_wrong = ['devushka videl malychika', 'devushka videli malychika']\n",
    "print(len(past+past_wrong))\n",
    "old_vocab = vocab\n",
    "vocab = update_vocab(old_vocab, get_vocab(past+past_wrong))\n",
    "delta_vocab(old_vocab, vocab)"
   ]
  },
  {
   "cell_type": "code",
   "execution_count": 19,
   "id": "f37639bc-73e4-4388-ad0f-4461cbd6b102",
   "metadata": {},
   "outputs": [
    {
     "name": "stdout",
     "output_type": "stream",
     "text": [
      "devushka videla malychika 1\n",
      "devushka videla dom 1\n",
      "videla malychika 1\n",
      "videla dom 1\n",
      "malychik videl devushku 1\n",
      "malychik videl dom 1\n",
      "videl devushku 1\n",
      "videl dom 1\n",
      "devushki videli malychika 1\n",
      "malychiki videli devushku 1\n",
      "videli malychika 1\n",
      "videli devushku 1\n",
      "videli dom 1\n",
      "--------\n",
      "devushka videl malychika 0\n",
      "devushka videli malychika 0\n"
     ]
    }
   ],
   "source": [
    "for s in past:\n",
    "    test(s)\n",
    "print(\"-\"*8)\n",
    "for s in past_wrong:\n",
    "    test(s)"
   ]
  },
  {
   "cell_type": "code",
   "execution_count": 20,
   "id": "ea1ed79f-4656-4276-8fe4-f42b2afb9af9",
   "metadata": {},
   "outputs": [
    {
     "name": "stdout",
     "output_type": "stream",
     "text": [
      "v dome jestymasla\n",
      "v dome njet maslo\n",
      "v dome jestyblinchikov\n",
      "v dome njet blinchiki\n",
      "devushka vidit doma\n",
      "malychik vidit devushki\n",
      "--------\n",
      "v dome jestymaslo\n",
      "v dome jestymasla\n",
      "v dome njet masla\n",
      "v dome jestyblinchiki\n",
      "v dome njet blinchikov\n",
      "devushka ne vidit malychika\n",
      "devushka ne vidit malychikov\n",
      "devushka ne vidit dom\n",
      "devushka ne vidit doma\n",
      "devushka ne vidit domov\n",
      "devushka vidit doma\n",
      "malychik ne vidit devushku\n",
      "malychik vidit devushki\n",
      "--------\n"
     ]
    },
    {
     "data": {
      "text/plain": [
       "{'blinchiki',\n",
       " 'blinchikov',\n",
       " 'dome',\n",
       " 'domov',\n",
       " 'jestyblinchiki',\n",
       " 'jestyblinchikov',\n",
       " 'jestymasla',\n",
       " 'jestymaslo',\n",
       " 'malychikov',\n",
       " 'masla',\n",
       " 'maslo',\n",
       " 'ne',\n",
       " 'njet',\n",
       " 'v'}"
      ]
     },
     "execution_count": 20,
     "metadata": {},
     "output_type": "execute_result"
    }
   ],
   "source": [
    "negatives = ['v dome jestymaslo', 'v dome jestymasla', 'v dome njet masla', 'v dome njet maslo', 'v dome jestyblinchiki', 'v dome jestyblinchikov', 'v dome njet blinchikov', 'v dome njet blinchiki', 'devushka ne vidit malychika', 'devushka ne vidit malychika', 'devushka ne vidit malychikov', 'devushka ne vidit dom', 'devushka ne vidit doma', 'devushka ne vidit domov', 'devushka vidit doma', 'malychik ne vidit devushku', 'malychik ne vidit devushki', 'malychik vidit devushki'] \n",
    "wrong_indexes = [2, 4, 6, 8, 15, 18]\n",
    "negatives_wrong = [negatives[i-1] for i in wrong_indexes]\n",
    "negatives_correct = [negatives[i] for i in range(len(negatives)) if i-1 not in wrong_indexes]\n",
    "print(\"\\n\".join(negatives_wrong))\n",
    "print(\"-\"*8)\n",
    "print(\"\\n\".join(negatives_correct))\n",
    "print(\"-\"*8)\n",
    "old_vocab = vocab\n",
    "vocab = update_vocab(old_vocab, get_vocab(negatives))\n",
    "delta_vocab(old_vocab, vocab)"
   ]
  },
  {
   "cell_type": "code",
   "execution_count": null,
   "id": "9bfe4c57-d161-45ff-80f6-dc35981c7a67",
   "metadata": {},
   "outputs": [],
   "source": []
  }
 ],
 "metadata": {
  "kernelspec": {
   "display_name": "Python 3 (ipykernel)",
   "language": "python",
   "name": "python3"
  },
  "language_info": {
   "codemirror_mode": {
    "name": "ipython",
    "version": 3
   },
   "file_extension": ".py",
   "mimetype": "text/x-python",
   "name": "python",
   "nbconvert_exporter": "python",
   "pygments_lexer": "ipython3",
   "version": "3.10.12"
  }
 },
 "nbformat": 4,
 "nbformat_minor": 5
}
